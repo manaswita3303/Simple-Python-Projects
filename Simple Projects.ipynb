{
 "cells": [
  {
   "cell_type": "markdown",
   "id": "45334f77-8206-4bf7-af08-78637419b6ed",
   "metadata": {},
   "source": [
    "# Mad Libs Generator"
   ]
  },
  {
   "cell_type": "code",
   "execution_count": 4,
   "id": "6b8b2fdb-c0c3-48df-93cf-420547311f47",
   "metadata": {},
   "outputs": [
    {
     "name": "stdin",
     "output_type": "stream",
     "text": [
      "what is your name?:  buti\n",
      "Give me a time:  5 pm\n",
      "Give me another time:  8 am\n",
      "Give me a pronoun:  her\n",
      "Give me a noun:  dog\n",
      "Give me another noun:  cat\n",
      "Give me a (Past Tense) verb:  ran\n"
     ]
    },
    {
     "name": "stdout",
     "output_type": "stream",
     "text": [
      "Hi! My name is buti. I wake up at 5 pm to go to school, but school starts at 8 am.After walking my her I decided to get get ready! I changed into my favourite outfit- a dressy pant and a dog.Then it was time for me to eat my go to breakfast, which is cat.\\ I then ran to school.\n"
     ]
    }
   ],
   "source": [
    "#user input\n",
    "name = input(\"what is your name?: \")\n",
    "time1 = input(\"Give me a time: \")\n",
    "time2 = input(\"Give me another time: \")\n",
    "pronoun = input(\"Give me a pronoun: \")\n",
    "noun1 = input(\"Give me a noun: \")\n",
    "noun2 = input(\"Give me another noun: \")\n",
    "verb = input(\"Give me a (Past Tense) verb: \")\n",
    "\n",
    "#actual sentence\n",
    "\n",
    "\n",
    "madlib= f\"Hi! My name is {name}. I wake up at {time1} to go to school, but school starts at {time2}.\\\n",
    "After walking my {pronoun} I decided to get get ready! I changed into my favourite outfit- a dressy pant and a {noun1}.\\\n",
    "Then it was time for me to eat my go to breakfast, which is {noun2}.\\ I then {verb} to school.\"\n",
    "\n",
    "print(madlib)"
   ]
  },
  {
   "cell_type": "markdown",
   "id": "f8aef6d4-d0f8-4e68-b195-7659ad268678",
   "metadata": {
    "tags": []
   },
   "source": [
    "# Finding Roots of a Quadratic Equation"
   ]
  },
  {
   "cell_type": "code",
   "execution_count": 2,
   "id": "814129df-248c-4991-afdf-01f8516ea120",
   "metadata": {},
   "outputs": [
    {
     "name": "stdin",
     "output_type": "stream",
     "text": [
      " 7\n",
      " -4\n",
      " 1\n"
     ]
    },
    {
     "name": "stdout",
     "output_type": "stream",
     "text": [
      "The roots of the equation are:\n",
      "0.285714285714286 + 0.247435829652697⋅ⅈ\n",
      "0.285714285714286 - 0.247435829652697⋅ⅈ\n",
      "True\n"
     ]
    }
   ],
   "source": [
    "#equation is of the form ax**2+bx+c\n",
    "#we shall etract the coefficients a, b and c\n",
    "#need to find a way to extract the coefficients from an equation without user's input\n",
    "\n",
    "from sympy import *\n",
    "x=Symbol(\"x\")\n",
    "a=input()        #coefficient of x**2\n",
    "b=input()        #coefficient of x\n",
    "c=input()         #coefficeint of 1\n",
    "def find_roots(a,b,c):\n",
    "    if int(a)==a and int(b)==b and int(c)==c:  \n",
    "        a=int(a)\n",
    "        b=int(b)\n",
    "        c=int(c)\n",
    "        for i in range(1,c):\n",
    "            for j in range(1,c):\n",
    "                if i*j==c:                      #using factorial method\n",
    "                    if (i-j)==b:\n",
    "                        print(\"The roots of the equation are:\", -i, j)\n",
    "                    elif (i+j)==b:\n",
    "                        print(\"The roots of the equation are:\", -i, -j)\n",
    "                    return True\n",
    "    else:                                        #using quadratic equation\n",
    "        a=float(a)\n",
    "        b=float(b)\n",
    "        c=float(c)\n",
    "        root1=(-b +sqrt(b**2 - 4*a*c))/(2*a)    #first complex root\n",
    "        root2=(-b -sqrt(b**2 - 4*a*c))/(2*a)    #conjugate of first root\n",
    "        print(\"The roots of the equation are:\")\n",
    "        pprint(root1)\n",
    "        pprint(root2)\n",
    "        return True\n",
    "        \n",
    "print(find_roots(a,b,c))    #works for both integral as well as decimal co-efficients; gives real as well as complex roots"
   ]
  },
  {
   "cell_type": "code",
   "execution_count": null,
   "id": "6efc39ab-2f73-4ccc-b9ae-c754fa125133",
   "metadata": {},
   "outputs": [],
   "source": []
  },
  {
   "cell_type": "markdown",
   "id": "e8cdbad1-c64f-4a38-88ea-37c25db07233",
   "metadata": {},
   "source": [
    "# Number Guessing Game"
   ]
  },
  {
   "cell_type": "code",
   "execution_count": 1,
   "id": "05e94430-25ec-4f54-9513-28fe8de2d23a",
   "metadata": {},
   "outputs": [
    {
     "name": "stdin",
     "output_type": "stream",
     "text": [
      " 67\n"
     ]
    },
    {
     "name": "stdout",
     "output_type": "stream",
     "text": [
      "Guess Lower\n"
     ]
    },
    {
     "name": "stdin",
     "output_type": "stream",
     "text": [
      " 30\n"
     ]
    },
    {
     "name": "stdout",
     "output_type": "stream",
     "text": [
      "Guess Higher!\n"
     ]
    },
    {
     "name": "stdin",
     "output_type": "stream",
     "text": [
      " 45\n"
     ]
    },
    {
     "name": "stdout",
     "output_type": "stream",
     "text": [
      "Guess Lower\n"
     ]
    },
    {
     "name": "stdin",
     "output_type": "stream",
     "text": [
      " 35\n"
     ]
    },
    {
     "name": "stdout",
     "output_type": "stream",
     "text": [
      "Oops! Better luck next time!\n",
      "The correct number was: 40\n"
     ]
    }
   ],
   "source": [
    "#simple version\n",
    "\n",
    "import random\n",
    "number=random.randint(1,100)   #a random integer is generated between 1 and 100er\n",
    "guess=int(input())              #user's input\n",
    "\n",
    "if guess==number:                                     #if number is guessed correctly\n",
    "    print(\"Congragulations! You guessed correctly.\")\n",
    "    print(f\"{number} is the correct number.\")\n",
    "else:                                                  #if number is guessed incorrectly\n",
    "    for i in range(1,4):                               #user will get 3 chances\n",
    "        if guess<number:\n",
    "            print(\"Guess Higher!\")                     #if the guess is lower than the generated number\n",
    "            guess=int(input())\n",
    "            if guess==number:                                     #if number is guessed correctly\n",
    "                print(\"Congragulations! You guessed correctly.\")\n",
    "                print(f\"{number} is the correct number.\")\n",
    "                break\n",
    "        elif guess>number:\n",
    "            print(\"Guess Lower\")                        #if the guess is higher than the original number\n",
    "            guess=int(input())\n",
    "            if guess==number:                                     #if number is guessed correctly\n",
    "                print(\"Congragulations! You guessed correctly.\")\n",
    "                print(f\"{number} is the correct number.\")\n",
    "                break\n",
    "        \n",
    "    print(\"Oops! Better luck next time!\")               #if all 3 guesses are also incorrect\n",
    "    print(\"The correct number was:\", number)"
   ]
  },
  {
   "cell_type": "code",
   "execution_count": null,
   "id": "2930195b-af42-4745-87ea-a0846590f3a9",
   "metadata": {},
   "outputs": [
    {
     "name": "stdin",
     "output_type": "stream",
     "text": [
      " 45\n"
     ]
    },
    {
     "name": "stdout",
     "output_type": "stream",
     "text": [
      "Guess Lower\n"
     ]
    },
    {
     "name": "stdin",
     "output_type": "stream",
     "text": [
      " 30\n"
     ]
    },
    {
     "name": "stdout",
     "output_type": "stream",
     "text": [
      "Guess Lower\n"
     ]
    }
   ],
   "source": [
    "#using dictionary\n",
    "\n",
    "import random\n",
    "number=random.randint(1,100)   #a random integer is generated between 1 and 100\n",
    "guess=int(input())              #user's input\n",
    "\n",
    "def number_guessing(guess):\n",
    "    if guess==number:                                     #if number is guessed correctly\n",
    "        print(\"Congragulations! You guessed correctly.\")\n",
    "        print(f\"{number} is the correct number.\")\n",
    "    else:                                                  #if number is guessed incorrectly\n",
    "        for i in range(1,4):                               #user will get 3 chances\n",
    "            if guess<number:\n",
    "                print(\"Guess Higher!\")                     #if the guess is lower than the generated number\n",
    "                guess=int(input())\n",
    "                if guess==number:                                     #if number is guessed correctly\n",
    "                    print(\"Congragulations! You guessed correctly.\")\n",
    "                    print(f\"{number} is the correct number.\")\n",
    "                    break\n",
    "            elif guess>number:\n",
    "                print(\"Guess Lower\")                        #if the guess is higher than the original number\n",
    "                guess=int(input())\n",
    "                if guess==number:                                     #if number is guessed correctly\n",
    "                    print(\"Congragulations! You guessed correctly.\")\n",
    "                    print(f\"{number} is the correct number.\")\n",
    "                    break\n",
    "            else:\n",
    "                print(\"Oops! Better luck next time!\")               #if all 3 guesses are also incorrect\n",
    "                print(\"The correct number was:\", number)\n",
    "    \n",
    "number_guessing(guess)"
   ]
  },
  {
   "cell_type": "code",
   "execution_count": null,
   "id": "f1160aa6-9602-414d-974f-8ca9eaca78f9",
   "metadata": {},
   "outputs": [],
   "source": []
  }
 ],
 "metadata": {
  "kernelspec": {
   "display_name": "Python 3 (ipykernel)",
   "language": "python",
   "name": "python3"
  },
  "language_info": {
   "codemirror_mode": {
    "name": "ipython",
    "version": 3
   },
   "file_extension": ".py",
   "mimetype": "text/x-python",
   "name": "python",
   "nbconvert_exporter": "python",
   "pygments_lexer": "ipython3",
   "version": "3.9.7"
  }
 },
 "nbformat": 4,
 "nbformat_minor": 5
}
